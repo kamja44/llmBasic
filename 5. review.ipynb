{
 "cells": [
  {
   "metadata": {
    "ExecuteTime": {
     "end_time": "2025-07-31T14:53:39.875288Z",
     "start_time": "2025-07-31T14:53:39.415699Z"
    }
   },
   "cell_type": "code",
   "source": [
    "from langchain_ollama import ChatOllama\n",
    "\n",
    "llm = ChatOllama(\n",
    "    model=\"llama3.1:latest\",\n",
    "    temperature=0\n",
    ")"
   ],
   "id": "7d15f4e9ac7af236",
   "outputs": [],
   "execution_count": 4
  },
  {
   "metadata": {
    "ExecuteTime": {
     "end_time": "2025-07-31T14:55:17.908251Z",
     "start_time": "2025-07-31T14:55:17.904583Z"
    }
   },
   "cell_type": "code",
   "source": [
    "# 음식 이름 찾기\n",
    "from langchain_core.output_parsers import StrOutputParser\n",
    "from langchain_core.prompts import PromptTemplate\n",
    "\n",
    "food_prompt = PromptTemplate(\n",
    "    template=\"\"\"what is one of the most popular food in {country}?\n",
    "    please return the name of the food only \"\"\", input_variables=[\"country\"]\n",
    ")\n",
    "\n",
    "food_chain = food_prompt | llm | StrOutputParser()"
   ],
   "id": "21a6c5df28090e52",
   "outputs": [],
   "execution_count": 7
  },
  {
   "metadata": {
    "ExecuteTime": {
     "end_time": "2025-07-31T14:55:19.292976Z",
     "start_time": "2025-07-31T14:55:18.821180Z"
    }
   },
   "cell_type": "code",
   "source": [
    "food_chain.invoke({\n",
    "    \"country\": \"South Korea\"\n",
    "})"
   ],
   "id": "9e00dd97ab068962",
   "outputs": [
    {
     "data": {
      "text/plain": [
       "'Kimchi Stew (Kimchi Jjigae)'"
      ]
     },
     "execution_count": 8,
     "metadata": {},
     "output_type": "execute_result"
    }
   ],
   "execution_count": 8
  },
  {
   "metadata": {
    "ExecuteTime": {
     "end_time": "2025-07-31T15:00:23.017468Z",
     "start_time": "2025-07-31T15:00:23.013988Z"
    }
   },
   "cell_type": "code",
   "source": [
    "from langchain_core.prompts import ChatPromptTemplate\n",
    "\n",
    "recipe_prompt = ChatPromptTemplate.from_messages([\n",
    "    ('system', '''Provide the recipe of the food that the user wants. Please return the recipe only as a numbered list'''),\n",
    "    ('human', 'Can you give me the recipe for making {food}?')\n",
    "])\n",
    "\n",
    "recipe_chain = recipe_prompt | llm | StrOutputParser()"
   ],
   "id": "f169612ad1359bd3",
   "outputs": [],
   "execution_count": 13
  },
  {
   "metadata": {
    "ExecuteTime": {
     "end_time": "2025-07-31T15:00:25.793537Z",
     "start_time": "2025-07-31T15:00:23.726898Z"
    }
   },
   "cell_type": "code",
   "source": [
    "recipe_chain.invoke({\n",
    "    'food', 'bibimbap'\n",
    "})"
   ],
   "id": "e0f92005c8c59afa",
   "outputs": [
    {
     "data": {
      "text/plain": [
       "'Here is the recipe:\\n\\n1. Cook 2 cups of white or brown rice according to package instructions.\\n2. Prepare an assortment of vegetables, including bean sprouts, shredded carrots, zucchini, and pickled radish.\\n3. Grill a small amount of beef (usually thinly sliced ribeye) until cooked through.\\n4. Fry an egg in a pan with a small amount of oil.\\n5. To assemble the dish, place a scoop of rice in the center of a bowl, followed by the vegetables, meat, and fried egg.\\n6. Serve with a side of gochujang (Korean chili paste) for added flavor.'"
      ]
     },
     "execution_count": 14,
     "metadata": {},
     "output_type": "execute_result"
    }
   ],
   "execution_count": 14
  },
  {
   "metadata": {
    "ExecuteTime": {
     "end_time": "2025-07-31T15:00:47.833304Z",
     "start_time": "2025-07-31T15:00:47.830305Z"
    }
   },
   "cell_type": "code",
   "source": [
    "final_chain = {\n",
    "    'food': food_chain\n",
    "} | recipe_chain"
   ],
   "id": "fc52ecdfef4d5ab",
   "outputs": [],
   "execution_count": 15
  },
  {
   "metadata": {
    "ExecuteTime": {
     "end_time": "2025-07-31T15:01:15.432015Z",
     "start_time": "2025-07-31T15:01:10.110745Z"
    }
   },
   "cell_type": "code",
   "source": [
    "final_chain.invoke({\n",
    "    'country': 'England'\n",
    "})"
   ],
   "id": "18a10cfb598c4316",
   "outputs": [
    {
     "data": {
      "text/plain": [
       "'Here is the recipe:\\n\\n**Fish and Chips Recipe**\\n\\n1. **Ingredients:**\\n\\t* 4 pieces of white fish (cod, haddock, or halibut work well)\\n\\t* 1 cup all-purpose flour\\n\\t* 1/2 teaspoon paprika\\n\\t* 1/2 teaspoon garlic powder\\n\\t* 1/2 teaspoon salt\\n\\t* 1/4 teaspoon black pepper\\n\\t* 1 cup buttermilk\\n\\t* Vegetable oil for frying\\n\\t* 2 large potatoes, peeled and cut into chips (fries)\\n\\t* Salt, to taste\\n2. **Prepare the fish:**\\n\\t* Cut the fish into desired pieces.\\n\\t* In a shallow dish, mix together flour, paprika, garlic powder, salt, and pepper.\\n\\t* Pour buttermilk into a separate shallow dish.\\n3. **Dredge the fish in flour mixture:**\\n\\t* Dip each piece of fish into the buttermilk, coating completely.\\n\\t* Then, coat in the flour mixture, shaking off excess.\\n4. **Heat oil for frying:**\\n\\t* Heat about 1/2-inch (1 cm) of vegetable oil in a large skillet or deep fryer to 350°F (180°C).\\n5. **Fry the fish and chips:**\\n\\t* Fry the fish pieces in batches until golden brown, about 3-4 minutes per side.\\n\\t* Remove from oil with a slotted spoon and drain on paper towels.\\n\\t* Repeat with remaining fish pieces.\\n6. **Fry the potatoes:**\\n\\t* Cut the potatoes into long, thin strips (chips).\\n\\t* Fry in batches until golden brown, about 3-4 minutes per batch.\\n7. **Serve:**\\n\\t* Serve hot and enjoy!'"
      ]
     },
     "execution_count": 16,
     "metadata": {},
     "output_type": "execute_result"
    }
   ],
   "execution_count": 16
  },
  {
   "metadata": {},
   "cell_type": "code",
   "outputs": [],
   "execution_count": null,
   "source": "",
   "id": "1a443589c93ec30d"
  }
 ],
 "metadata": {
  "kernelspec": {
   "name": "python3",
   "language": "python",
   "display_name": "Python 3 (ipykernel)"
  }
 },
 "nbformat": 5,
 "nbformat_minor": 9
}
