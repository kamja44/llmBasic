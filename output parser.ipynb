{
 "cells": [
  {
   "metadata": {
    "ExecuteTime": {
     "end_time": "2025-07-31T13:59:03.772142Z",
     "start_time": "2025-07-31T13:59:02.408090Z"
    }
   },
   "cell_type": "code",
   "source": [
    "from langchain_ollama import ChatOllama\n",
    "\n",
    "llm = ChatOllama(model=\"llama3.1\")\n"
   ],
   "id": "fd309da0cb410b37",
   "outputs": [],
   "execution_count": 1
  },
  {
   "metadata": {
    "ExecuteTime": {
     "end_time": "2025-07-31T14:04:35.186714Z",
     "start_time": "2025-07-31T14:04:34.849341Z"
    }
   },
   "cell_type": "code",
   "source": [
    "from langchain_core.prompts import PromptTemplate\n",
    "from langchain_core.output_parsers import StrOutputParser\n",
    "\n",
    "prompt_template = PromptTemplate(\n",
    "    template=\"What is the capital of {country}? Return the name of the city only\",\n",
    "    input_variables=[\"country\"],\n",
    ")\n",
    "\n",
    "prompt = prompt_template.invoke({\"country\": \"France\"})\n",
    "\n",
    "print(prompt)\n",
    "\n",
    "ai_message = llm.invoke(prompt_template.invoke({\n",
    "    \"country\": \"France\"\n",
    "}))\n",
    "\n",
    "print(ai_message)\n",
    "\n",
    "output_parser = StrOutputParser()\n",
    "\n",
    "answer = output_parser.invoke(\n",
    "    llm.invoke(prompt_template.invoke({\n",
    "        \"country\": \"France\"\n",
    "    }))\n",
    ")"
   ],
   "id": "f1d0f1c11bbbd465",
   "outputs": [
    {
     "name": "stdout",
     "output_type": "stream",
     "text": [
      "text='What is the capital of France? Return the name of the city only'\n",
      "content='Paris' additional_kwargs={} response_metadata={'model': 'llama3.1', 'created_at': '2025-07-31T14:04:35.1315698Z', 'done': True, 'done_reason': 'stop', 'total_duration': 275066700, 'load_duration': 24187200, 'prompt_eval_count': 24, 'prompt_eval_duration': 150445100, 'eval_count': 2, 'eval_duration': 100434400, 'model_name': 'llama3.1'} id='run--a2228701-4ec0-419a-8443-ca5a6ca01649-0' usage_metadata={'input_tokens': 24, 'output_tokens': 2, 'total_tokens': 26}\n"
     ]
    }
   ],
   "execution_count": 5
  },
  {
   "metadata": {
    "ExecuteTime": {
     "end_time": "2025-07-31T14:04:37.462362Z",
     "start_time": "2025-07-31T14:04:37.457870Z"
    }
   },
   "cell_type": "code",
   "source": "ai_message # Base Message의 일종",
   "id": "a4a7ad137c024bb",
   "outputs": [
    {
     "data": {
      "text/plain": [
       "AIMessage(content='Paris', additional_kwargs={}, response_metadata={'model': 'llama3.1', 'created_at': '2025-07-31T14:04:35.1315698Z', 'done': True, 'done_reason': 'stop', 'total_duration': 275066700, 'load_duration': 24187200, 'prompt_eval_count': 24, 'prompt_eval_duration': 150445100, 'eval_count': 2, 'eval_duration': 100434400, 'model_name': 'llama3.1'}, id='run--a2228701-4ec0-419a-8443-ca5a6ca01649-0', usage_metadata={'input_tokens': 24, 'output_tokens': 2, 'total_tokens': 26})"
      ]
     },
     "execution_count": 6,
     "metadata": {},
     "output_type": "execute_result"
    }
   ],
   "execution_count": 6
  },
  {
   "metadata": {
    "ExecuteTime": {
     "end_time": "2025-07-31T14:04:38.903Z",
     "start_time": "2025-07-31T14:04:38.899037Z"
    }
   },
   "cell_type": "code",
   "source": "answer # String",
   "id": "4f5c72bc776cedd7",
   "outputs": [
    {
     "data": {
      "text/plain": [
       "'Paris'"
      ]
     },
     "execution_count": 7,
     "metadata": {},
     "output_type": "execute_result"
    }
   ],
   "execution_count": 7
  },
  {
   "metadata": {},
   "cell_type": "markdown",
   "source": [
    "from langchain_core.output_parsers import StrOutputParser\n",
    "- output_parser를 이용하여 사용자가 원하는 결과만 출력이 가능하다."
   ],
   "id": "b7aefdb22af06d1"
  },
  {
   "metadata": {
    "ExecuteTime": {
     "end_time": "2025-07-31T14:07:41.539275Z",
     "start_time": "2025-07-31T14:07:40.919659Z"
    }
   },
   "cell_type": "code",
   "source": [
    "from langchain_core.output_parsers import JsonOutputParser\n",
    "\n",
    "country_detail_prompt = PromptTemplate(\n",
    "    template= \"\"\"\n",
    "    Give following information about {country}:\n",
    "    - Capital\n",
    "    - Population\n",
    "    - Language\n",
    "    - Currency\n",
    "\n",
    "    return it in JSON format and return the JSON dictionary only\n",
    "    \"\"\",\n",
    "    input_variables=[\"country\"],\n",
    ")\n",
    "\n",
    "country_detail_prompt.invoke({\n",
    "    \"country\": \"France\"\n",
    "})\n",
    "\n",
    "output_parser = JsonOutputParser()\n",
    "\n",
    "output_parser.invoke(\n",
    "    llm.invoke(country_detail_prompt.invoke({\"country\": \"France\"}))\n",
    ")"
   ],
   "id": "37e50c851d9704b0",
   "outputs": [
    {
     "data": {
      "text/plain": [
       "{'capital': 'Paris',\n",
       " 'population': '67.2 million (2020 est.)',\n",
       " 'language': 'French',\n",
       " 'currency': 'Euro'}"
      ]
     },
     "execution_count": 10,
     "metadata": {},
     "output_type": "execute_result"
    }
   ],
   "execution_count": 10
  },
  {
   "metadata": {},
   "cell_type": "markdown",
   "source": [
    "JsonOutputParser가 잘 동작하지 않을 떄는 다음과 같은 클래스를 정의하여 사용한다.\n",
    "\n",
    "from pydantic import BaseModel, Field\n",
    "\n",
    "class CountryDetail(BaseModel):\n",
    "    capital: str = Field(description=\"The capital of the country\")\n",
    "    population: int = Field(description=\"The population of the country\")\n",
    "    language: str = Field(description=\"The language of the country\")\n",
    "    currency: str = Field(description=\"The currency of the country\")"
   ],
   "id": "7aa68e0a717adb2d"
  },
  {
   "metadata": {
    "ExecuteTime": {
     "end_time": "2025-07-31T14:12:18.307882Z",
     "start_time": "2025-07-31T14:12:18.303680Z"
    }
   },
   "cell_type": "code",
   "source": [
    "from pydantic import BaseModel, Field\n",
    "\n",
    "class CountryDetail(BaseModel):\n",
    "    capital: str = Field(description=\"The capital of the country\")\n",
    "    population: int = Field(description=\"The population of the country\")\n",
    "    language: str = Field(description=\"The language of the country\")\n",
    "    currency: str = Field(description=\"The currency of the country\")\n",
    "\n",
    "structued_llm = llm.with_structured_output(CountryDetail)"
   ],
   "id": "45d3db5c8b7fcb75",
   "outputs": [],
   "execution_count": 12
  },
  {
   "metadata": {
    "ExecuteTime": {
     "end_time": "2025-07-31T14:13:01.056412Z",
     "start_time": "2025-07-31T14:12:58.513527Z"
    }
   },
   "cell_type": "code",
   "source": [
    "from langchain_core.output_parsers import JsonOutputParser\n",
    "\n",
    "country_detail_prompt = PromptTemplate(\n",
    "    template= \"\"\"\n",
    "    Give following information about {country}:\n",
    "    - Capital\n",
    "    - Population\n",
    "    - Language\n",
    "    - Currency\n",
    "\n",
    "    return it in JSON format and return the JSON dictionary only\n",
    "    \"\"\",\n",
    "    input_variables=[\"country\"],\n",
    ")\n",
    "\n",
    "country_detail_prompt.invoke({\n",
    "    \"country\": \"France\"\n",
    "})\n",
    "\n",
    "json_ai_message = structued_llm.invoke(country_detail_prompt.invoke({\n",
    "    \"country\": \"France\"\n",
    "}))"
   ],
   "id": "78f04baba1754824",
   "outputs": [],
   "execution_count": 13
  },
  {
   "metadata": {
    "ExecuteTime": {
     "end_time": "2025-07-31T14:13:15.323574Z",
     "start_time": "2025-07-31T14:13:15.317893Z"
    }
   },
   "cell_type": "code",
   "source": "json_ai_message",
   "id": "a70bdce13525c56c",
   "outputs": [
    {
     "data": {
      "text/plain": [
       "CountryDetail(capital='Paris', population=67264767, language='French', currency='Euro')"
      ]
     },
     "execution_count": 15,
     "metadata": {},
     "output_type": "execute_result"
    }
   ],
   "execution_count": 15
  },
  {
   "metadata": {
    "ExecuteTime": {
     "end_time": "2025-07-31T14:13:37.110477Z",
     "start_time": "2025-07-31T14:13:37.105936Z"
    }
   },
   "cell_type": "code",
   "source": "json_ai_message.model_dump()",
   "id": "71cfe5bed14b38d",
   "outputs": [
    {
     "data": {
      "text/plain": [
       "{'capital': 'Paris',\n",
       " 'population': 67264767,\n",
       " 'language': 'French',\n",
       " 'currency': 'Euro'}"
      ]
     },
     "execution_count": 16,
     "metadata": {},
     "output_type": "execute_result"
    }
   ],
   "execution_count": 16
  },
  {
   "metadata": {},
   "cell_type": "code",
   "outputs": [],
   "execution_count": null,
   "source": "",
   "id": "d059498794f4afd6"
  }
 ],
 "metadata": {
  "kernelspec": {
   "display_name": "Python 3",
   "language": "python",
   "name": "python3"
  },
  "language_info": {
   "codemirror_mode": {
    "name": "ipython",
    "version": 2
   },
   "file_extension": ".py",
   "mimetype": "text/x-python",
   "name": "python",
   "nbconvert_exporter": "python",
   "pygments_lexer": "ipython2",
   "version": "2.7.6"
  }
 },
 "nbformat": 4,
 "nbformat_minor": 5
}
