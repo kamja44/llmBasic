{
 "cells": [
  {
   "metadata": {
    "ExecuteTime": {
     "end_time": "2025-07-31T14:23:24.500011Z",
     "start_time": "2025-07-31T14:23:24.036204Z"
    }
   },
   "cell_type": "code",
   "source": [
    "from langchain_ollama import ChatOllama\n",
    "\n",
    "llm = ChatOllama(model=\"llama3.1\")\n"
   ],
   "id": "fd309da0cb410b37",
   "outputs": [],
   "execution_count": 13
  },
  {
   "metadata": {
    "ExecuteTime": {
     "end_time": "2025-07-31T14:23:25.506661Z",
     "start_time": "2025-07-31T14:23:25.267540Z"
    }
   },
   "cell_type": "code",
   "source": [
    "from langchain_core.prompts import PromptTemplate\n",
    "from langchain_core.output_parsers import StrOutputParser\n",
    "\n",
    "prompt_template = PromptTemplate(\n",
    "    template=\"What is the capital of {country}? Return the name of the city only\",\n",
    "    input_variables=[\"country\"],\n",
    ")\n",
    "\n",
    "prompt = prompt_template.invoke({\"country\": \"France\"})\n",
    "\n",
    "print(prompt)\n",
    "\n",
    "ai_message = llm.invoke(prompt_template.invoke({\n",
    "    \"country\": \"France\"\n",
    "}))\n",
    "\n",
    "print(ai_message)\n",
    "\n",
    "output_parser = StrOutputParser()\n",
    "\n",
    "answer = output_parser.invoke(\n",
    "    llm.invoke(prompt_template.invoke({\n",
    "        \"country\": \"France\"\n",
    "    }))\n",
    ")"
   ],
   "id": "f1d0f1c11bbbd465",
   "outputs": [
    {
     "name": "stdout",
     "output_type": "stream",
     "text": [
      "text='What is the capital of France? Return the name of the city only'\n",
      "content='Paris' additional_kwargs={} response_metadata={'model': 'llama3.1', 'created_at': '2025-07-31T14:23:25.385242Z', 'done': True, 'done_reason': 'stop', 'total_duration': 111771800, 'load_duration': 24207300, 'prompt_eval_count': 24, 'prompt_eval_duration': 1020700, 'eval_count': 2, 'eval_duration': 85596300, 'model_name': 'llama3.1'} id='run--1844e541-2c20-485e-a17e-5a5cd0d41b59-0' usage_metadata={'input_tokens': 24, 'output_tokens': 2, 'total_tokens': 26}\n"
     ]
    }
   ],
   "execution_count": 14
  },
  {
   "metadata": {
    "ExecuteTime": {
     "end_time": "2025-07-31T14:23:27.370156Z",
     "start_time": "2025-07-31T14:23:27.366652Z"
    }
   },
   "cell_type": "code",
   "source": "capital_chain = prompt_template | llm | output_parser",
   "id": "8540d981f01a3275",
   "outputs": [],
   "execution_count": 15
  },
  {
   "metadata": {},
   "cell_type": "markdown",
   "source": "llm은 runnable이기 때문에 파이프로 연결한다 => 모든 모델이 runnable 클래스를 상속받음",
   "id": "4ebd7b6b13e5b596"
  },
  {
   "metadata": {
    "ExecuteTime": {
     "end_time": "2025-07-31T14:23:30.949509Z",
     "start_time": "2025-07-31T14:23:30.694028Z"
    }
   },
   "cell_type": "code",
   "source": [
    "capital_chain.invoke({\n",
    "    \"country\": \"France\"\n",
    "})"
   ],
   "id": "e94ae6b856e0f87c",
   "outputs": [
    {
     "data": {
      "text/plain": [
       "'Paris'"
      ]
     },
     "execution_count": 16,
     "metadata": {},
     "output_type": "execute_result"
    }
   ],
   "execution_count": 16
  },
  {
   "metadata": {
    "ExecuteTime": {
     "end_time": "2025-07-31T14:32:10.869646Z",
     "start_time": "2025-07-31T14:32:10.865449Z"
    }
   },
   "cell_type": "code",
   "source": [
    "country_prompt = PromptTemplate(\n",
    "    template=\"\"\"Guess the name of the {continent} based on the following information:\n",
    "    {information}\n",
    "    Returnm the name of the coutnry only\n",
    "    \"\"\",\n",
    "    input_variables=[\"information\"],\n",
    ")\n",
    "country_chain = country_prompt | llm | output_parser\n",
    "# country_chain.invoke({\n",
    "#     \"information\": \"This country is very famous for its wine in Europe\"\n",
    "# })"
   ],
   "id": "f9a42a86142d8d0d",
   "outputs": [],
   "execution_count": 23
  },
  {
   "metadata": {
    "ExecuteTime": {
     "end_time": "2025-07-31T14:26:59.751963Z",
     "start_time": "2025-07-31T14:26:59.748617Z"
    }
   },
   "cell_type": "code",
   "source": "final_chain = {\"country\": country_chain} | capital_chain",
   "id": "f93880d69c9346b6",
   "outputs": [],
   "execution_count": 19
  },
  {
   "metadata": {
    "ExecuteTime": {
     "end_time": "2025-07-31T14:27:44.973339Z",
     "start_time": "2025-07-31T14:27:44.489322Z"
    }
   },
   "cell_type": "code",
   "source": [
    "final_chain.invoke({\n",
    "    \"information\": \"This country is very famous for its wine in Europe\"\n",
    "})"
   ],
   "id": "bf0ab54f2b52b68b",
   "outputs": [
    {
     "data": {
      "text/plain": [
       "'Rome'"
      ]
     },
     "execution_count": 20,
     "metadata": {},
     "output_type": "execute_result"
    }
   ],
   "execution_count": 20
  },
  {
   "metadata": {
    "ExecuteTime": {
     "end_time": "2025-07-31T14:30:29.098859Z",
     "start_time": "2025-07-31T14:30:28.699802Z"
    }
   },
   "cell_type": "code",
   "source": [
    "# Runnable pass through => 전달되는 runnable\n",
    "# runnbale pass through를 사용하면 다음과 같이 체인 사용이 가능하다.\n",
    "from langchain_core.runnables import RunnablePassthrough\n",
    "\n",
    "final_chain = {\n",
    "    \"information\": RunnablePassthrough()\n",
    "} | {\n",
    "    \"country\": country_chain\n",
    "} | capital_chain\n",
    "\n",
    "final_chain.invoke(\"This country is very famous for its wine in Europe\") # 이 정보가 information으로 들어감 => 이 결과가 country가 되어 capital chain의 input(invoke)로 들어감"
   ],
   "id": "d8bb723e6e906055",
   "outputs": [
    {
     "data": {
      "text/plain": [
       "'Paris'"
      ]
     },
     "execution_count": 22,
     "metadata": {},
     "output_type": "execute_result"
    }
   ],
   "execution_count": 22
  },
  {
   "metadata": {
    "ExecuteTime": {
     "end_time": "2025-07-31T14:33:48.674332Z",
     "start_time": "2025-07-31T14:33:48.529569Z"
    }
   },
   "cell_type": "code",
   "source": [
    "# Runnable pass through => 전달되는 runnable\n",
    "# runnbale pass through를 사용하면 다음과 같이 체인 사용이 가능하다.\n",
    "from langchain_core.runnables import RunnablePassthrough\n",
    "\n",
    "final_chain = {\n",
    "                  \"information\": RunnablePassthrough(),\n",
    "    \"country\": RunnablePassthrough()\n",
    "              } | {\n",
    "                  \"country\": country_chain\n",
    "              } | capital_chain\n",
    "\n",
    "final_chain.invoke({\n",
    "    \"information\": \"This country is very famous for its wine in Europe\",\n",
    "    \"continent\": \"Europe\"\n",
    "}) # RunnablePassThrough를 2개 이상 사용할 경우 invoke의 input은 key value 형태로 작성해주어야 함"
   ],
   "id": "b2a515fed6aa1cf1",
   "outputs": [
    {
     "data": {
      "text/plain": [
       "'Paris'"
      ]
     },
     "execution_count": 24,
     "metadata": {},
     "output_type": "execute_result"
    }
   ],
   "execution_count": 24
  },
  {
   "metadata": {},
   "cell_type": "code",
   "outputs": [],
   "execution_count": null,
   "source": "",
   "id": "7bf91bfaceefef66"
  }
 ],
 "metadata": {
  "kernelspec": {
   "display_name": "Python 3",
   "language": "python",
   "name": "python3"
  },
  "language_info": {
   "codemirror_mode": {
    "name": "ipython",
    "version": 2
   },
   "file_extension": ".py",
   "mimetype": "text/x-python",
   "name": "python",
   "nbconvert_exporter": "python",
   "pygments_lexer": "ipython2",
   "version": "2.7.6"
  }
 },
 "nbformat": 4,
 "nbformat_minor": 5
}
